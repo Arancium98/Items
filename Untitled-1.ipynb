{
 "cells": [
  {
   "cell_type": "code",
   "execution_count": 4,
   "metadata": {},
   "outputs": [],
   "source": [
    "import requests\n",
    "from bs4 import BeautifulSoup\n",
    "import pandas as pd"
   ]
  },
  {
   "cell_type": "code",
   "execution_count": 22,
   "metadata": {},
   "outputs": [],
   "source": [
    "# Make a request to the website\n",
    "url = 'https://user.wartale.com/guide.asp?page=1&action=2&id=846&spec=0&mix=0&age=0&box=2'\n",
    "response = requests.get(url)"
   ]
  },
  {
   "cell_type": "code",
   "execution_count": 23,
   "metadata": {},
   "outputs": [],
   "source": [
    "soup = BeautifulSoup(response.content, 'html.parser')\n"
   ]
  },
  {
   "cell_type": "code",
   "execution_count": 22,
   "metadata": {},
   "outputs": [
    {
     "name": "stdout",
     "output_type": "stream",
     "text": [
      "<Response [200]>\n"
     ]
    }
   ],
   "source": [
    "print(response)"
   ]
  },
  {
   "cell_type": "code",
   "execution_count": 32,
   "metadata": {},
   "outputs": [
    {
     "name": "stdout",
     "output_type": "stream",
     "text": [
      "Double Sided War Axe\n"
     ]
    }
   ],
   "source": [
    "soup = BeautifulSoup(response.content, 'html.parser')\n",
    "item_box_header = soup.find('div', class_='item_box_header')\n",
    "item_name = item_box_header.contents[0].strip()\n",
    "\n",
    "print(item_name)"
   ]
  },
  {
   "cell_type": "code",
   "execution_count": 41,
   "metadata": {},
   "outputs": [
    {
     "name": "stdout",
     "output_type": "stream",
     "text": [
      "WA105\n"
     ]
    }
   ],
   "source": [
    "alt_attribute = soup.find(\"div\", class_=\"item_box_img\").img[\"alt\"]\n",
    "print(alt_attribute)"
   ]
  },
  {
   "cell_type": "code",
   "execution_count": 31,
   "metadata": {},
   "outputs": [
    {
     "name": "stdout",
     "output_type": "stream",
     "text": [
      "Attack Speed: 2\n",
      "Attack Rating: Lv/1 - 3\n"
     ]
    }
   ],
   "source": [
    "from bs4 import BeautifulSoup\n",
    "\n",
    "html_content = '''\n",
    "\t\t\t<tr>\n",
    "\t\t\t\t<td class=\"item_box_text_left\">Attack Speed<br>Attack Rating<br></td>\n",
    "\t\t\t\t<td>2<br>Lv/1 - 3<br></td>\n",
    "\t\t\t</tr>\n",
    "'''\n",
    "\n",
    "soup = BeautifulSoup(html_content, 'html.parser')\n",
    "\n",
    "left_values = soup.select_one('td.item_box_text_left').get_text('\\n', strip=True).split('\\n')\n",
    "right_values = soup.select_one('td:not(.item_box_text_left)').get_text('\\n', strip=True).split('\\n')\n",
    "\n",
    "for left, right in zip(left_values, right_values):\n",
    "    print(f\"{left}: {right}\")\n"
   ]
  },
  {
   "cell_type": "code",
   "execution_count": 20,
   "metadata": {},
   "outputs": [
    {
     "name": "stdout",
     "output_type": "stream",
     "text": [
      "<tr>\n",
      "<td class=\"item_box_text_left\">Min Damage<br/>Max Damage<br/>Attack Speed<br/>Critical<br/>Attack Rating<br/>Block<br/>Integrity<br/></td>\n",
      "<td>7 - 8<br/>16 - 19<br/>6<br/>9%<br/>45 - 60<br/>3 - 3%<br/>55 - 70<br/></td>\n",
      "</tr>\n"
     ]
    }
   ],
   "source": [
    "second_tr = soup.find_all('tr')[4]\n",
    "\n",
    "print(second_tr)"
   ]
  },
  {
   "cell_type": "code",
   "execution_count": 24,
   "metadata": {},
   "outputs": [
    {
     "name": "stdout",
     "output_type": "stream",
     "text": [
      "Min Damage: 16 - 19\n",
      "Max Damage: 25 - 28\n",
      "Attack Speed: 6\n",
      "Range: 225\n",
      "Critical: 8%\n",
      "Attack Rating: 64 - 80\n",
      "Integrity: 55 - 80\n"
     ]
    }
   ],
   "source": [
    "second_tr = soup.find_all('tr')[4]\n",
    "\n",
    "left_values = second_tr.select_one('td.item_box_text_left').get_text('\\n', strip=True).split('\\n')\n",
    "right_values = second_tr.select_one('td:not(.item_box_text_left)').get_text('\\n', strip=True).split('\\n')\n",
    "\n",
    "for left, right in zip(left_values, right_values):\n",
    "    print(f\"{left}: {right}\")"
   ]
  },
  {
   "cell_type": "code",
   "execution_count": 16,
   "metadata": {},
   "outputs": [
    {
     "name": "stdout",
     "output_type": "stream",
     "text": [
      "Left or right elements not found in the second <tr>.\n"
     ]
    }
   ],
   "source": [
    "second_tr = soup.find_all('tr')[2]\n",
    "\n",
    "left_element = second_tr.select_one('td.item_box_text_left')\n",
    "right_element = second_tr.select_one('td:not(.item_box_text_left)')\n",
    "\n",
    "if left_element and right_element:\n",
    "    left_values = left_element.get_text('\\n', strip=True).split('\\n')\n",
    "    right_values = right_element.get_text('\\n', strip=True).split('\\n')\n",
    "\n",
    "    for left, right in zip(left_values, right_values):\n",
    "        print(f\"{left}: {right}\")\n",
    "else:\n",
    "    print(\"Left or right elements not found in the second <tr>.\")"
   ]
  },
  {
   "cell_type": "code",
   "execution_count": 25,
   "metadata": {},
   "outputs": [],
   "source": [
    "url2 = 'https://user.wartale.com/guide.asp?page=1&action=2&id=106&spec=0&mix=0&age=0&box=1'\n",
    "response2 = requests.get(url2)\n",
    "soup2 = BeautifulSoup(response2.content, 'html.parser')\n"
   ]
  },
  {
   "cell_type": "code",
   "execution_count": 27,
   "metadata": {},
   "outputs": [
    {
     "name": "stdout",
     "output_type": "stream",
     "text": [
      "Level: 120\n",
      "Strength: 248\n",
      "Talent: 90\n"
     ]
    }
   ],
   "source": [
    "second_tr = soup2.find_all('tr')[1]\n",
    "\n",
    "left_values = second_tr.select_one('td.item_box_text_left').get_text('\\n', strip=True).split('\\n')\n",
    "right_values = second_tr.select_one('td:not(.item_box_text_left)').get_text('\\n', strip=True).split('\\n')\n",
    "\n",
    "for left, right in zip(left_values, right_values):\n",
    "    print(f\"{left}: {right}\")"
   ]
  },
  {
   "cell_type": "code",
   "execution_count": 28,
   "metadata": {},
   "outputs": [],
   "source": [
    "url3 = 'https://user.wartale.com/guide.asp?page=1&action=2&id=21034&spec=0&mix=0&age=0&box=1'\n",
    "response3 = requests.get(url3)\n",
    "soup3 = BeautifulSoup(response3.content, 'html.parser')"
   ]
  },
  {
   "cell_type": "code",
   "execution_count": 30,
   "metadata": {},
   "outputs": [
    {
     "name": "stdout",
     "output_type": "stream",
     "text": [
      "Attack Rating: 20 - 24\n",
      "Defense: 12 - 14\n",
      "Absorb: 2 - 2.4\n",
      "Potion Storage: 22 - 25\n"
     ]
    }
   ],
   "source": [
    "second_tr = soup3.find_all('tr')[4]\n",
    "\n",
    "left_values = second_tr.select_one('td.item_box_text_left').get_text('\\n', strip=True).split('\\n')\n",
    "right_values = second_tr.select_one('td:not(.item_box_text_left)').get_text('\\n', strip=True).split('\\n')\n",
    "\n",
    "for left, right in zip(left_values, right_values):\n",
    "    print(f\"{left}: {right}\")"
   ]
  },
  {
   "cell_type": "code",
   "execution_count": 32,
   "metadata": {},
   "outputs": [
    {
     "name": "stdout",
     "output_type": "stream",
     "text": [
      "{\n",
      "    \"Attack Speed\": \"2\",\n",
      "    \"Attack Rating\": \"Lv/1 - 3\"\n",
      "}\n"
     ]
    }
   ],
   "source": [
    "import json\n",
    "from bs4 import BeautifulSoup\n",
    "\n",
    "html_content = '''\n",
    "    <tr>\n",
    "        <td class=\"item_box_text_left\">Attack Speed<br>Attack Rating<br></td>\n",
    "        <td>2<br>Lv/1 - 3<br></td>\n",
    "    </tr>\n",
    "'''\n",
    "\n",
    "soup = BeautifulSoup(html_content, 'html.parser')\n",
    "\n",
    "left_values = soup.select_one('td.item_box_text_left').get_text('\\n', strip=True).split('\\n')\n",
    "right_values = soup.select_one('td:not(.item_box_text_left)').get_text('\\n', strip=True).split('\\n')\n",
    "\n",
    "data_dict = {}\n",
    "for left, right in zip(left_values, right_values):\n",
    "    data_dict[left] = right\n",
    "\n",
    "json_data = json.dumps(data_dict, indent=4)\n",
    "print(json_data)"
   ]
  },
  {
   "cell_type": "code",
   "execution_count": null,
   "metadata": {},
   "outputs": [],
   "source": []
  }
 ],
 "metadata": {
  "kernelspec": {
   "display_name": "ITEMS",
   "language": "python",
   "name": "python3"
  },
  "language_info": {
   "codemirror_mode": {
    "name": "ipython",
    "version": 3
   },
   "file_extension": ".py",
   "mimetype": "text/x-python",
   "name": "python",
   "nbconvert_exporter": "python",
   "pygments_lexer": "ipython3",
   "version": "3.12.2"
  }
 },
 "nbformat": 4,
 "nbformat_minor": 2
}
