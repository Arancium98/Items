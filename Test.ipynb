{
 "cells": [
  {
   "cell_type": "code",
   "execution_count": 3,
   "metadata": {},
   "outputs": [],
   "source": [
    "import pandas as pd\n",
    "import sqlite3"
   ]
  },
  {
   "cell_type": "code",
   "execution_count": 4,
   "metadata": {},
   "outputs": [],
   "source": [
    "conn = sqlite3.connect('ItemsDB.db')\n",
    "cursor = conn.cursor()\n",
    "# Execute an SQL query\n",
    "cursor.execute(\"SELECT * FROM weapons w  LEFT JOIN bitems b ON w.item_id = b.item_id  LEFT JOIN items i ON b.items = i.items  WHERE w.item_id = 627\")\n",
    "rows = cursor.fetchall()\n",
    "df = pd.DataFrame(rows, columns=[desc[0] for desc in cursor.description])\n",
    "conn.close()\n"
   ]
  },
  {
   "cell_type": "code",
   "execution_count": 5,
   "metadata": {},
   "outputs": [
    {
     "data": {
      "text/html": [
       "<div>\n",
       "<style scoped>\n",
       "    .dataframe tbody tr th:only-of-type {\n",
       "        vertical-align: middle;\n",
       "    }\n",
       "\n",
       "    .dataframe tbody tr th {\n",
       "        vertical-align: top;\n",
       "    }\n",
       "\n",
       "    .dataframe thead th {\n",
       "        text-align: right;\n",
       "    }\n",
       "</style>\n",
       "<table border=\"1\" class=\"dataframe\">\n",
       "  <thead>\n",
       "    <tr style=\"text-align: right;\">\n",
       "      <th></th>\n",
       "      <th>item_id</th>\n",
       "      <th>Min Damage</th>\n",
       "      <th>Max Damage</th>\n",
       "      <th>Attack Speed</th>\n",
       "      <th>Critical</th>\n",
       "      <th>Attack Rating</th>\n",
       "      <th>Integrity</th>\n",
       "      <th>Block</th>\n",
       "      <th>Evade</th>\n",
       "      <th>Range</th>\n",
       "      <th>...</th>\n",
       "      <th>Level</th>\n",
       "      <th>Strength</th>\n",
       "      <th>Talent</th>\n",
       "      <th>Agility</th>\n",
       "      <th>Spirit</th>\n",
       "      <th>Health</th>\n",
       "      <th>items</th>\n",
       "      <th>item_image_url</th>\n",
       "      <th>items</th>\n",
       "      <th>type</th>\n",
       "    </tr>\n",
       "  </thead>\n",
       "  <tbody>\n",
       "    <tr>\n",
       "      <th>0</th>\n",
       "      <td>627</td>\n",
       "      <td>1 - 2</td>\n",
       "      <td>3 - 4</td>\n",
       "      <td>6</td>\n",
       "      <td>3%</td>\n",
       "      <td>30 - 38</td>\n",
       "      <td>30 - 36</td>\n",
       "      <td>None</td>\n",
       "      <td>None</td>\n",
       "      <td>None</td>\n",
       "      <td>...</td>\n",
       "      <td>0</td>\n",
       "      <td>0</td>\n",
       "      <td>0</td>\n",
       "      <td>0</td>\n",
       "      <td>0</td>\n",
       "      <td>0</td>\n",
       "      <td>items_2</td>\n",
       "      <td>https://user.wartale.com/images/items/itWA101.jpg</td>\n",
       "      <td>items_2</td>\n",
       "      <td>Axes</td>\n",
       "    </tr>\n",
       "  </tbody>\n",
       "</table>\n",
       "<p>1 rows × 49 columns</p>\n",
       "</div>"
      ],
      "text/plain": [
       "   item_id Min Damage Max Damage  Attack Speed Critical Attack Rating  \\\n",
       "0      627      1 - 2      3 - 4             6       3%       30 - 38   \n",
       "\n",
       "  Integrity Block Evade Range  ... Level Strength Talent  Agility  Spirit  \\\n",
       "0   30 - 36  None  None  None  ...     0        0      0        0       0   \n",
       "\n",
       "   Health    items                                     item_image_url  \\\n",
       "0       0  items_2  https://user.wartale.com/images/items/itWA101.jpg   \n",
       "\n",
       "     items  type  \n",
       "0  items_2  Axes  \n",
       "\n",
       "[1 rows x 49 columns]"
      ]
     },
     "execution_count": 5,
     "metadata": {},
     "output_type": "execute_result"
    }
   ],
   "source": [
    "df"
   ]
  },
  {
   "cell_type": "code",
   "execution_count": 6,
   "metadata": {},
   "outputs": [
    {
     "data": {
      "text/plain": [
       "Index(['item_id', 'Min Damage', 'Max Damage', 'Attack Speed', 'Critical',\n",
       "       'Attack Rating', 'Integrity', 'Block', 'Evade', 'Range', 'Defense',\n",
       "       'Add HP', 'Add MP', 'Min_Min_Damage', 'Max_Min_Damage',\n",
       "       'Min_Max_Damage', 'Max_Max_Damage', 'Min_Attack_Ratting',\n",
       "       'Max_Attack_Ratting', 'Min_Integrity', 'Max_Integrity', 'Min_Block',\n",
       "       'Max_Block', 'Min_Evade', 'Max_Evade', 'Special Attack Speed',\n",
       "       'Attack Power', 'Special Critical', 'Special Attack Rating',\n",
       "       'Special Range', 'Special Block', 'Magic APT', 'MP Regen',\n",
       "       'Special Defense', 'item_id', 'item_name', 'game_id', 'Weight', 'Price',\n",
       "       'Level', 'Strength', 'Talent', 'Agility', 'Spirit', 'Health', 'items',\n",
       "       'item_image_url', 'items', 'type'],\n",
       "      dtype='object')"
      ]
     },
     "execution_count": 6,
     "metadata": {},
     "output_type": "execute_result"
    }
   ],
   "source": [
    "df.columns"
   ]
  },
  {
   "cell_type": "code",
   "execution_count": 7,
   "metadata": {},
   "outputs": [
    {
     "data": {
      "text/plain": [
       "0    Stone Axe\n",
       "Name: item_name, dtype: object"
      ]
     },
     "execution_count": 7,
     "metadata": {},
     "output_type": "execute_result"
    }
   ],
   "source": [
    "df['item_name']"
   ]
  },
  {
   "cell_type": "code",
   "execution_count": null,
   "metadata": {},
   "outputs": [],
   "source": []
  }
 ],
 "metadata": {
  "kernelspec": {
   "display_name": "ITEMS",
   "language": "python",
   "name": "python3"
  },
  "language_info": {
   "codemirror_mode": {
    "name": "ipython",
    "version": 3
   },
   "file_extension": ".py",
   "mimetype": "text/x-python",
   "name": "python",
   "nbconvert_exporter": "python",
   "pygments_lexer": "ipython3",
   "version": "3.12.2"
  }
 },
 "nbformat": 4,
 "nbformat_minor": 2
}
