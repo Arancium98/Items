{
 "cells": [
  {
   "cell_type": "code",
   "execution_count": 2,
   "metadata": {},
   "outputs": [],
   "source": [
    "import pandas as pd\n",
    "import sqlite3"
   ]
  },
  {
   "cell_type": "code",
   "execution_count": 10,
   "metadata": {},
   "outputs": [],
   "source": [
    "conn = sqlite3.connect('ItemsDB.db')\n",
    "cursor = conn.cursor()\n",
    "\n",
    "query = f\"\"\"\n",
    "SELECT b.item_name \n",
    "FROM weapons w \n",
    "LEFT JOIN bitems b ON w.item_id = b.item_id \n",
    "LEFT JOIN items i ON b.items = i.items \n",
    "WHERE i.\"type\" = 'Axes' \n",
    "\"\"\"\n",
    "\n",
    "\n",
    "cursor.execute(query)\n",
    "rows = cursor.fetchall()\n",
    "df = pd.DataFrame(rows, columns=[desc[0] for desc in cursor.description])\n",
    "conn.close()\n"
   ]
  },
  {
   "cell_type": "code",
   "execution_count": 20,
   "metadata": {},
   "outputs": [
    {
     "name": "stdout",
     "output_type": "stream",
     "text": [
      "[('Steel Axe', 0), ('Stone Axe', 0), ('Battle Axe', 7), ('War Axe', 10), ('Double Sided War Axe', 16), ('Bat Axe', 22), ('Mechanic Axe', 30), ('Double Headed Axe', 37), ('Great Axe', 44), ('Diamond Axe', 50), ('Jagged Axe', 55), ('Cleaver', 60), ('Gigantic Axe', 65), ('Tomahawk', 70), ('Titan Axe', 75), ('Chaos Axe', 80), ('Ancient Axe', 84), ('Relic Axe', 88), ('Extreme Axe', 92), ('Fury Axe', 96), ('Shard Axe', 98), ('Shadow Axe', 100), ('Wyvern Axe', 104), ('Inferno Axe', 106), ('Zecram Axe', 110), ('Blazing Axe', 114), ('Demolition Axe', 116), ('Dragon Axe', 120), ('Gladiator Axe', 122), ('Kronos Axe', 126), ('Mythology Axe', 130), ('Deadly Axe', 134), ('Zealous Axe', 138), ('Havoc Axe', 142), ('Memorial Axe', 146)]\n"
     ]
    }
   ],
   "source": [
    "import sqlite3\n",
    "\n",
    "# Connect to the database\n",
    "conn = sqlite3.connect('ItemsDB.db')\n",
    "cursor = conn.cursor()\n",
    "\n",
    "# Define the item type\n",
    "item = 'Axes'\n",
    "\n",
    "# SQL query with parameterized query\n",
    "query = \"\"\"\n",
    "SELECT\n",
    "    b.item_name,\n",
    "    b.Level \n",
    "FROM items i \n",
    "LEFT JOIN bitems b ON i.items = b.items \n",
    "WHERE i.\"type\" = ?\n",
    "ORDER BY b.Level ASC\n",
    "\"\"\"\n",
    "\n",
    "# Execute the query with parameter binding\n",
    "cursor.execute(query, (item,))\n",
    "\n",
    "# Fetch all rows\n",
    "rows = cursor.fetchall()\n",
    "\n",
    "# Close the connection\n",
    "conn.close()\n",
    "\n",
    "# Store the results in a list of tuples (item_name, level)\n",
    "result_list = [(row[0], row[1]) for row in rows]\n",
    "\n",
    "# Print the result list\n",
    "print(result_list)\n"
   ]
  },
  {
   "cell_type": "code",
   "execution_count": 6,
   "metadata": {},
   "outputs": [
    {
     "data": {
      "text/plain": [
       "Index(['item_id', 'Min Damage', 'Max Damage', 'Attack Speed', 'Critical',\n",
       "       'Attack Rating', 'Integrity', 'Block', 'Evade', 'Range', 'Defense',\n",
       "       'Add HP', 'Add MP', 'Min_Min_Damage', 'Max_Min_Damage',\n",
       "       'Min_Max_Damage', 'Max_Max_Damage', 'Min_Attack_Ratting',\n",
       "       'Max_Attack_Ratting', 'Min_Integrity', 'Max_Integrity', 'Min_Block',\n",
       "       'Max_Block', 'Min_Evade', 'Max_Evade', 'Special Attack Speed',\n",
       "       'Attack Power', 'Special Critical', 'Special Attack Rating',\n",
       "       'Special Range', 'Special Block', 'Magic APT', 'MP Regen',\n",
       "       'Special Defense', 'item_id', 'item_name', 'game_id', 'Weight', 'Price',\n",
       "       'Level', 'Strength', 'Talent', 'Agility', 'Spirit', 'Health', 'items',\n",
       "       'item_image_url', 'items', 'type'],\n",
       "      dtype='object')"
      ]
     },
     "execution_count": 6,
     "metadata": {},
     "output_type": "execute_result"
    }
   ],
   "source": [
    "df.columns"
   ]
  },
  {
   "cell_type": "code",
   "execution_count": null,
   "metadata": {},
   "outputs": [],
   "source": []
  },
  {
   "cell_type": "code",
   "execution_count": 7,
   "metadata": {},
   "outputs": [
    {
     "data": {
      "text/plain": [
       "0    Stone Axe\n",
       "Name: item_name, dtype: object"
      ]
     },
     "execution_count": 7,
     "metadata": {},
     "output_type": "execute_result"
    }
   ],
   "source": [
    "df['item_name']"
   ]
  },
  {
   "cell_type": "code",
   "execution_count": null,
   "metadata": {},
   "outputs": [],
   "source": []
  }
 ],
 "metadata": {
  "kernelspec": {
   "display_name": "ITEMS",
   "language": "python",
   "name": "python3"
  },
  "language_info": {
   "codemirror_mode": {
    "name": "ipython",
    "version": 3
   },
   "file_extension": ".py",
   "mimetype": "text/x-python",
   "name": "python",
   "nbconvert_exporter": "python",
   "pygments_lexer": "ipython3",
   "version": "3.12.2"
  }
 },
 "nbformat": 4,
 "nbformat_minor": 2
}
